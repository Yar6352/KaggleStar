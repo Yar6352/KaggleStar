{
  "nbformat": 4,
  "nbformat_minor": 0,
  "metadata": {
    "colab": {
      "provenance": [],
      "mount_file_id": "144F3BuWSXhHWW5UGcWVYNoIsqJLnOVmi",
      "authorship_tag": "ABX9TyP42+M/fN10oGXeq/Nii4b9"
    },
    "kernelspec": {
      "name": "python3",
      "display_name": "Python 3"
    },
    "language_info": {
      "name": "python"
    }
  },
  "cells": [
    {
      "cell_type": "code",
      "source": [
        "import tensorflow as tf\n",
        "from tensorflow.keras.layers import Dense \n",
        "from sklearn import preprocessing, model_selection\n",
        "import numpy as np\n",
        "import pandas as pd\n",
        "from keras.layers import Flatten, Dropout, BatchNormalization"
      ],
      "metadata": {
        "id": "6obJZf9fLSdE"
      },
      "execution_count": null,
      "outputs": []
    },
    {
      "cell_type": "code",
      "source": [
        "df = pd.read_csv('classes.csv')\n",
        "df.head()"
      ],
      "metadata": {
        "id": "TsvwLkn8FXWI",
        "colab": {
          "base_uri": "https://localhost:8080/",
          "height": 206
        },
        "outputId": "004e7117-7a43-43fb-86b2-45b71a8a5c91"
      },
      "execution_count": null,
      "outputs": [
        {
          "output_type": "execute_result",
          "data": {
            "text/plain": [
              "   Temperature (K)  Luminosity(L/Lo)  Radius(R/Ro)  Absolute magnitude(Mv)  \\\n",
              "0             3068          0.002400        0.1700                   16.12   \n",
              "1             3042          0.000500        0.1542                   16.60   \n",
              "2             2600          0.000300        0.1020                   18.70   \n",
              "3             2800          0.000200        0.1600                   16.65   \n",
              "4             1939          0.000138        0.1030                   20.06   \n",
              "\n",
              "   Star type Star color Spectral Class  \n",
              "0          0        Red              M  \n",
              "1          0        Red              M  \n",
              "2          0        Red              M  \n",
              "3          0        Red              M  \n",
              "4          0        Red              M  "
            ],
            "text/html": [
              "\n",
              "  <div id=\"df-04c1bff9-1a60-4996-844a-60e4fdd10e62\">\n",
              "    <div class=\"colab-df-container\">\n",
              "      <div>\n",
              "<style scoped>\n",
              "    .dataframe tbody tr th:only-of-type {\n",
              "        vertical-align: middle;\n",
              "    }\n",
              "\n",
              "    .dataframe tbody tr th {\n",
              "        vertical-align: top;\n",
              "    }\n",
              "\n",
              "    .dataframe thead th {\n",
              "        text-align: right;\n",
              "    }\n",
              "</style>\n",
              "<table border=\"1\" class=\"dataframe\">\n",
              "  <thead>\n",
              "    <tr style=\"text-align: right;\">\n",
              "      <th></th>\n",
              "      <th>Temperature (K)</th>\n",
              "      <th>Luminosity(L/Lo)</th>\n",
              "      <th>Radius(R/Ro)</th>\n",
              "      <th>Absolute magnitude(Mv)</th>\n",
              "      <th>Star type</th>\n",
              "      <th>Star color</th>\n",
              "      <th>Spectral Class</th>\n",
              "    </tr>\n",
              "  </thead>\n",
              "  <tbody>\n",
              "    <tr>\n",
              "      <th>0</th>\n",
              "      <td>3068</td>\n",
              "      <td>0.002400</td>\n",
              "      <td>0.1700</td>\n",
              "      <td>16.12</td>\n",
              "      <td>0</td>\n",
              "      <td>Red</td>\n",
              "      <td>M</td>\n",
              "    </tr>\n",
              "    <tr>\n",
              "      <th>1</th>\n",
              "      <td>3042</td>\n",
              "      <td>0.000500</td>\n",
              "      <td>0.1542</td>\n",
              "      <td>16.60</td>\n",
              "      <td>0</td>\n",
              "      <td>Red</td>\n",
              "      <td>M</td>\n",
              "    </tr>\n",
              "    <tr>\n",
              "      <th>2</th>\n",
              "      <td>2600</td>\n",
              "      <td>0.000300</td>\n",
              "      <td>0.1020</td>\n",
              "      <td>18.70</td>\n",
              "      <td>0</td>\n",
              "      <td>Red</td>\n",
              "      <td>M</td>\n",
              "    </tr>\n",
              "    <tr>\n",
              "      <th>3</th>\n",
              "      <td>2800</td>\n",
              "      <td>0.000200</td>\n",
              "      <td>0.1600</td>\n",
              "      <td>16.65</td>\n",
              "      <td>0</td>\n",
              "      <td>Red</td>\n",
              "      <td>M</td>\n",
              "    </tr>\n",
              "    <tr>\n",
              "      <th>4</th>\n",
              "      <td>1939</td>\n",
              "      <td>0.000138</td>\n",
              "      <td>0.1030</td>\n",
              "      <td>20.06</td>\n",
              "      <td>0</td>\n",
              "      <td>Red</td>\n",
              "      <td>M</td>\n",
              "    </tr>\n",
              "  </tbody>\n",
              "</table>\n",
              "</div>\n",
              "      <button class=\"colab-df-convert\" onclick=\"convertToInteractive('df-04c1bff9-1a60-4996-844a-60e4fdd10e62')\"\n",
              "              title=\"Convert this dataframe to an interactive table.\"\n",
              "              style=\"display:none;\">\n",
              "        \n",
              "  <svg xmlns=\"http://www.w3.org/2000/svg\" height=\"24px\"viewBox=\"0 0 24 24\"\n",
              "       width=\"24px\">\n",
              "    <path d=\"M0 0h24v24H0V0z\" fill=\"none\"/>\n",
              "    <path d=\"M18.56 5.44l.94 2.06.94-2.06 2.06-.94-2.06-.94-.94-2.06-.94 2.06-2.06.94zm-11 1L8.5 8.5l.94-2.06 2.06-.94-2.06-.94L8.5 2.5l-.94 2.06-2.06.94zm10 10l.94 2.06.94-2.06 2.06-.94-2.06-.94-.94-2.06-.94 2.06-2.06.94z\"/><path d=\"M17.41 7.96l-1.37-1.37c-.4-.4-.92-.59-1.43-.59-.52 0-1.04.2-1.43.59L10.3 9.45l-7.72 7.72c-.78.78-.78 2.05 0 2.83L4 21.41c.39.39.9.59 1.41.59.51 0 1.02-.2 1.41-.59l7.78-7.78 2.81-2.81c.8-.78.8-2.07 0-2.86zM5.41 20L4 18.59l7.72-7.72 1.47 1.35L5.41 20z\"/>\n",
              "  </svg>\n",
              "      </button>\n",
              "      \n",
              "  <style>\n",
              "    .colab-df-container {\n",
              "      display:flex;\n",
              "      flex-wrap:wrap;\n",
              "      gap: 12px;\n",
              "    }\n",
              "\n",
              "    .colab-df-convert {\n",
              "      background-color: #E8F0FE;\n",
              "      border: none;\n",
              "      border-radius: 50%;\n",
              "      cursor: pointer;\n",
              "      display: none;\n",
              "      fill: #1967D2;\n",
              "      height: 32px;\n",
              "      padding: 0 0 0 0;\n",
              "      width: 32px;\n",
              "    }\n",
              "\n",
              "    .colab-df-convert:hover {\n",
              "      background-color: #E2EBFA;\n",
              "      box-shadow: 0px 1px 2px rgba(60, 64, 67, 0.3), 0px 1px 3px 1px rgba(60, 64, 67, 0.15);\n",
              "      fill: #174EA6;\n",
              "    }\n",
              "\n",
              "    [theme=dark] .colab-df-convert {\n",
              "      background-color: #3B4455;\n",
              "      fill: #D2E3FC;\n",
              "    }\n",
              "\n",
              "    [theme=dark] .colab-df-convert:hover {\n",
              "      background-color: #434B5C;\n",
              "      box-shadow: 0px 1px 3px 1px rgba(0, 0, 0, 0.15);\n",
              "      filter: drop-shadow(0px 1px 2px rgba(0, 0, 0, 0.3));\n",
              "      fill: #FFFFFF;\n",
              "    }\n",
              "  </style>\n",
              "\n",
              "      <script>\n",
              "        const buttonEl =\n",
              "          document.querySelector('#df-04c1bff9-1a60-4996-844a-60e4fdd10e62 button.colab-df-convert');\n",
              "        buttonEl.style.display =\n",
              "          google.colab.kernel.accessAllowed ? 'block' : 'none';\n",
              "\n",
              "        async function convertToInteractive(key) {\n",
              "          const element = document.querySelector('#df-04c1bff9-1a60-4996-844a-60e4fdd10e62');\n",
              "          const dataTable =\n",
              "            await google.colab.kernel.invokeFunction('convertToInteractive',\n",
              "                                                     [key], {});\n",
              "          if (!dataTable) return;\n",
              "\n",
              "          const docLinkHtml = 'Like what you see? Visit the ' +\n",
              "            '<a target=\"_blank\" href=https://colab.research.google.com/notebooks/data_table.ipynb>data table notebook</a>'\n",
              "            + ' to learn more about interactive tables.';\n",
              "          element.innerHTML = '';\n",
              "          dataTable['output_type'] = 'display_data';\n",
              "          await google.colab.output.renderOutput(dataTable, element);\n",
              "          const docLink = document.createElement('div');\n",
              "          docLink.innerHTML = docLinkHtml;\n",
              "          element.appendChild(docLink);\n",
              "        }\n",
              "      </script>\n",
              "    </div>\n",
              "  </div>\n",
              "  "
            ]
          },
          "metadata": {},
          "execution_count": 2
        }
      ]
    },
    {
      "cell_type": "code",
      "source": [
        "X = np.array(df.drop(['Star type', 'Star color', 'Spectral Class'], 1))"
      ],
      "metadata": {
        "id": "HaAvjcPbFXu9",
        "colab": {
          "base_uri": "https://localhost:8080/"
        },
        "outputId": "738687ad-92ef-4a2b-b4f6-9623de75f0aa"
      },
      "execution_count": null,
      "outputs": [
        {
          "output_type": "stream",
          "name": "stderr",
          "text": [
            "<ipython-input-4-63347e41d93d>:1: FutureWarning: In a future version of pandas all arguments of DataFrame.drop except for the argument 'labels' will be keyword-only.\n",
            "  X = np.array(df.drop(['Star type', 'Star color', 'Spectral Class'], 1))\n"
          ]
        }
      ]
    },
    {
      "cell_type": "code",
      "source": [
        "y = np.array(df['Star type'], dtype=float)\n",
        "y = pd.get_dummies(y)\n",
        "y"
      ],
      "metadata": {
        "colab": {
          "base_uri": "https://localhost:8080/",
          "height": 423
        },
        "id": "Afj2y_LKMkbl",
        "outputId": "85c905c9-844c-4e11-e3d9-4e617ae6e95c"
      },
      "execution_count": null,
      "outputs": [
        {
          "output_type": "execute_result",
          "data": {
            "text/plain": [
              "     0.0  1.0  2.0  3.0  4.0  5.0\n",
              "0      1    0    0    0    0    0\n",
              "1      1    0    0    0    0    0\n",
              "2      1    0    0    0    0    0\n",
              "3      1    0    0    0    0    0\n",
              "4      1    0    0    0    0    0\n",
              "..   ...  ...  ...  ...  ...  ...\n",
              "235    0    0    0    0    0    1\n",
              "236    0    0    0    0    0    1\n",
              "237    0    0    0    0    0    1\n",
              "238    0    0    0    0    0    1\n",
              "239    0    0    0    0    0    1\n",
              "\n",
              "[240 rows x 6 columns]"
            ],
            "text/html": [
              "\n",
              "  <div id=\"df-06e47c04-2baa-4282-8421-0a89b13439d6\">\n",
              "    <div class=\"colab-df-container\">\n",
              "      <div>\n",
              "<style scoped>\n",
              "    .dataframe tbody tr th:only-of-type {\n",
              "        vertical-align: middle;\n",
              "    }\n",
              "\n",
              "    .dataframe tbody tr th {\n",
              "        vertical-align: top;\n",
              "    }\n",
              "\n",
              "    .dataframe thead th {\n",
              "        text-align: right;\n",
              "    }\n",
              "</style>\n",
              "<table border=\"1\" class=\"dataframe\">\n",
              "  <thead>\n",
              "    <tr style=\"text-align: right;\">\n",
              "      <th></th>\n",
              "      <th>0.0</th>\n",
              "      <th>1.0</th>\n",
              "      <th>2.0</th>\n",
              "      <th>3.0</th>\n",
              "      <th>4.0</th>\n",
              "      <th>5.0</th>\n",
              "    </tr>\n",
              "  </thead>\n",
              "  <tbody>\n",
              "    <tr>\n",
              "      <th>0</th>\n",
              "      <td>1</td>\n",
              "      <td>0</td>\n",
              "      <td>0</td>\n",
              "      <td>0</td>\n",
              "      <td>0</td>\n",
              "      <td>0</td>\n",
              "    </tr>\n",
              "    <tr>\n",
              "      <th>1</th>\n",
              "      <td>1</td>\n",
              "      <td>0</td>\n",
              "      <td>0</td>\n",
              "      <td>0</td>\n",
              "      <td>0</td>\n",
              "      <td>0</td>\n",
              "    </tr>\n",
              "    <tr>\n",
              "      <th>2</th>\n",
              "      <td>1</td>\n",
              "      <td>0</td>\n",
              "      <td>0</td>\n",
              "      <td>0</td>\n",
              "      <td>0</td>\n",
              "      <td>0</td>\n",
              "    </tr>\n",
              "    <tr>\n",
              "      <th>3</th>\n",
              "      <td>1</td>\n",
              "      <td>0</td>\n",
              "      <td>0</td>\n",
              "      <td>0</td>\n",
              "      <td>0</td>\n",
              "      <td>0</td>\n",
              "    </tr>\n",
              "    <tr>\n",
              "      <th>4</th>\n",
              "      <td>1</td>\n",
              "      <td>0</td>\n",
              "      <td>0</td>\n",
              "      <td>0</td>\n",
              "      <td>0</td>\n",
              "      <td>0</td>\n",
              "    </tr>\n",
              "    <tr>\n",
              "      <th>...</th>\n",
              "      <td>...</td>\n",
              "      <td>...</td>\n",
              "      <td>...</td>\n",
              "      <td>...</td>\n",
              "      <td>...</td>\n",
              "      <td>...</td>\n",
              "    </tr>\n",
              "    <tr>\n",
              "      <th>235</th>\n",
              "      <td>0</td>\n",
              "      <td>0</td>\n",
              "      <td>0</td>\n",
              "      <td>0</td>\n",
              "      <td>0</td>\n",
              "      <td>1</td>\n",
              "    </tr>\n",
              "    <tr>\n",
              "      <th>236</th>\n",
              "      <td>0</td>\n",
              "      <td>0</td>\n",
              "      <td>0</td>\n",
              "      <td>0</td>\n",
              "      <td>0</td>\n",
              "      <td>1</td>\n",
              "    </tr>\n",
              "    <tr>\n",
              "      <th>237</th>\n",
              "      <td>0</td>\n",
              "      <td>0</td>\n",
              "      <td>0</td>\n",
              "      <td>0</td>\n",
              "      <td>0</td>\n",
              "      <td>1</td>\n",
              "    </tr>\n",
              "    <tr>\n",
              "      <th>238</th>\n",
              "      <td>0</td>\n",
              "      <td>0</td>\n",
              "      <td>0</td>\n",
              "      <td>0</td>\n",
              "      <td>0</td>\n",
              "      <td>1</td>\n",
              "    </tr>\n",
              "    <tr>\n",
              "      <th>239</th>\n",
              "      <td>0</td>\n",
              "      <td>0</td>\n",
              "      <td>0</td>\n",
              "      <td>0</td>\n",
              "      <td>0</td>\n",
              "      <td>1</td>\n",
              "    </tr>\n",
              "  </tbody>\n",
              "</table>\n",
              "<p>240 rows × 6 columns</p>\n",
              "</div>\n",
              "      <button class=\"colab-df-convert\" onclick=\"convertToInteractive('df-06e47c04-2baa-4282-8421-0a89b13439d6')\"\n",
              "              title=\"Convert this dataframe to an interactive table.\"\n",
              "              style=\"display:none;\">\n",
              "        \n",
              "  <svg xmlns=\"http://www.w3.org/2000/svg\" height=\"24px\"viewBox=\"0 0 24 24\"\n",
              "       width=\"24px\">\n",
              "    <path d=\"M0 0h24v24H0V0z\" fill=\"none\"/>\n",
              "    <path d=\"M18.56 5.44l.94 2.06.94-2.06 2.06-.94-2.06-.94-.94-2.06-.94 2.06-2.06.94zm-11 1L8.5 8.5l.94-2.06 2.06-.94-2.06-.94L8.5 2.5l-.94 2.06-2.06.94zm10 10l.94 2.06.94-2.06 2.06-.94-2.06-.94-.94-2.06-.94 2.06-2.06.94z\"/><path d=\"M17.41 7.96l-1.37-1.37c-.4-.4-.92-.59-1.43-.59-.52 0-1.04.2-1.43.59L10.3 9.45l-7.72 7.72c-.78.78-.78 2.05 0 2.83L4 21.41c.39.39.9.59 1.41.59.51 0 1.02-.2 1.41-.59l7.78-7.78 2.81-2.81c.8-.78.8-2.07 0-2.86zM5.41 20L4 18.59l7.72-7.72 1.47 1.35L5.41 20z\"/>\n",
              "  </svg>\n",
              "      </button>\n",
              "      \n",
              "  <style>\n",
              "    .colab-df-container {\n",
              "      display:flex;\n",
              "      flex-wrap:wrap;\n",
              "      gap: 12px;\n",
              "    }\n",
              "\n",
              "    .colab-df-convert {\n",
              "      background-color: #E8F0FE;\n",
              "      border: none;\n",
              "      border-radius: 50%;\n",
              "      cursor: pointer;\n",
              "      display: none;\n",
              "      fill: #1967D2;\n",
              "      height: 32px;\n",
              "      padding: 0 0 0 0;\n",
              "      width: 32px;\n",
              "    }\n",
              "\n",
              "    .colab-df-convert:hover {\n",
              "      background-color: #E2EBFA;\n",
              "      box-shadow: 0px 1px 2px rgba(60, 64, 67, 0.3), 0px 1px 3px 1px rgba(60, 64, 67, 0.15);\n",
              "      fill: #174EA6;\n",
              "    }\n",
              "\n",
              "    [theme=dark] .colab-df-convert {\n",
              "      background-color: #3B4455;\n",
              "      fill: #D2E3FC;\n",
              "    }\n",
              "\n",
              "    [theme=dark] .colab-df-convert:hover {\n",
              "      background-color: #434B5C;\n",
              "      box-shadow: 0px 1px 3px 1px rgba(0, 0, 0, 0.15);\n",
              "      filter: drop-shadow(0px 1px 2px rgba(0, 0, 0, 0.3));\n",
              "      fill: #FFFFFF;\n",
              "    }\n",
              "  </style>\n",
              "\n",
              "      <script>\n",
              "        const buttonEl =\n",
              "          document.querySelector('#df-06e47c04-2baa-4282-8421-0a89b13439d6 button.colab-df-convert');\n",
              "        buttonEl.style.display =\n",
              "          google.colab.kernel.accessAllowed ? 'block' : 'none';\n",
              "\n",
              "        async function convertToInteractive(key) {\n",
              "          const element = document.querySelector('#df-06e47c04-2baa-4282-8421-0a89b13439d6');\n",
              "          const dataTable =\n",
              "            await google.colab.kernel.invokeFunction('convertToInteractive',\n",
              "                                                     [key], {});\n",
              "          if (!dataTable) return;\n",
              "\n",
              "          const docLinkHtml = 'Like what you see? Visit the ' +\n",
              "            '<a target=\"_blank\" href=https://colab.research.google.com/notebooks/data_table.ipynb>data table notebook</a>'\n",
              "            + ' to learn more about interactive tables.';\n",
              "          element.innerHTML = '';\n",
              "          dataTable['output_type'] = 'display_data';\n",
              "          await google.colab.output.renderOutput(dataTable, element);\n",
              "          const docLink = document.createElement('div');\n",
              "          docLink.innerHTML = docLinkHtml;\n",
              "          element.appendChild(docLink);\n",
              "        }\n",
              "      </script>\n",
              "    </div>\n",
              "  </div>\n",
              "  "
            ]
          },
          "metadata": {},
          "execution_count": 5
        }
      ]
    },
    {
      "cell_type": "code",
      "source": [
        "df['Star type'].nunique()"
      ],
      "metadata": {
        "colab": {
          "base_uri": "https://localhost:8080/"
        },
        "id": "B8vlTdy3NV8R",
        "outputId": "a9277cf0-9fb8-408e-b99c-dde0f612bfb8"
      },
      "execution_count": null,
      "outputs": [
        {
          "output_type": "execute_result",
          "data": {
            "text/plain": [
              "6"
            ]
          },
          "metadata": {},
          "execution_count": 6
        }
      ]
    },
    {
      "cell_type": "code",
      "source": [
        "df.isnull().sum()"
      ],
      "metadata": {
        "colab": {
          "base_uri": "https://localhost:8080/"
        },
        "id": "6pS6Nm-Zcu4V",
        "outputId": "fa569fb6-7ab2-4e8d-bd03-4e898b33186b"
      },
      "execution_count": null,
      "outputs": [
        {
          "output_type": "execute_result",
          "data": {
            "text/plain": [
              "Temperature (K)           0\n",
              "Luminosity(L/Lo)          0\n",
              "Radius(R/Ro)              0\n",
              "Absolute magnitude(Mv)    0\n",
              "Star type                 0\n",
              "Star color                0\n",
              "Spectral Class            0\n",
              "dtype: int64"
            ]
          },
          "metadata": {},
          "execution_count": 7
        }
      ]
    },
    {
      "cell_type": "code",
      "source": [
        "X_train, X_test, y_train, y_test = model_selection.train_test_split(X, y, train_size=.7)"
      ],
      "metadata": {
        "id": "ffHTiHWBMr5S"
      },
      "execution_count": null,
      "outputs": []
    },
    {
      "cell_type": "code",
      "source": [
        "X_f_train = preprocessing.scale(X_train)\n",
        "X_f_test = preprocessing.scale(X_test)\n",
        "y_f_train = y_train\n",
        "y_f_test = y_test"
      ],
      "metadata": {
        "id": "-PhC5jRAQB-v"
      },
      "execution_count": null,
      "outputs": []
    },
    {
      "cell_type": "code",
      "source": [
        "model = tf.keras.models.Sequential([\n",
        "    Flatten(),\n",
        "    Dense(10, activation='relu'),\n",
        "    Dense(12, activation='relu'),\n",
        "    Dense(8, activation='relu'),\n",
        "    Dense(6, activation='softmax')\n",
        "])"
      ],
      "metadata": {
        "id": "hEj-epERQfEj"
      },
      "execution_count": null,
      "outputs": []
    },
    {
      "cell_type": "code",
      "source": [
        "new_Adam = tf.keras.optimizers.experimental.Adam(learning_rate=.01)"
      ],
      "metadata": {
        "id": "qEzGo5cWXX0B"
      },
      "execution_count": null,
      "outputs": []
    },
    {
      "cell_type": "code",
      "source": [
        "model.compile(optimizer=new_Adam, loss='categorical_crossentropy', metrics=['accuracy'])"
      ],
      "metadata": {
        "id": "Nqy7uDyNR1uQ"
      },
      "execution_count": null,
      "outputs": []
    },
    {
      "cell_type": "code",
      "source": [
        "model.fit(X_f_train, y_f_train, epochs=60, batch_size=32)"
      ],
      "metadata": {
        "colab": {
          "base_uri": "https://localhost:8080/"
        },
        "id": "NmDhKophSktd",
        "outputId": "e916a573-9258-403c-e6a1-2df108d0c13f"
      },
      "execution_count": null,
      "outputs": [
        {
          "output_type": "stream",
          "name": "stdout",
          "text": [
            "Epoch 1/60\n",
            "6/6 [==============================] - 2s 7ms/step - loss: 1.7754 - accuracy: 0.2083\n",
            "Epoch 2/60\n",
            "6/6 [==============================] - 0s 5ms/step - loss: 1.7087 - accuracy: 0.3512\n",
            "Epoch 3/60\n",
            "6/6 [==============================] - 0s 4ms/step - loss: 1.6362 - accuracy: 0.4286\n",
            "Epoch 4/60\n",
            "6/6 [==============================] - 0s 6ms/step - loss: 1.5342 - accuracy: 0.4583\n",
            "Epoch 5/60\n",
            "6/6 [==============================] - 0s 4ms/step - loss: 1.4170 - accuracy: 0.4345\n",
            "Epoch 6/60\n",
            "6/6 [==============================] - 0s 7ms/step - loss: 1.2776 - accuracy: 0.4643\n",
            "Epoch 7/60\n",
            "6/6 [==============================] - 0s 7ms/step - loss: 1.1208 - accuracy: 0.6429\n",
            "Epoch 8/60\n",
            "6/6 [==============================] - 0s 4ms/step - loss: 0.9618 - accuracy: 0.6607\n",
            "Epoch 9/60\n",
            "6/6 [==============================] - 0s 6ms/step - loss: 0.8122 - accuracy: 0.6726\n",
            "Epoch 10/60\n",
            "6/6 [==============================] - 0s 5ms/step - loss: 0.7009 - accuracy: 0.6905\n",
            "Epoch 11/60\n",
            "6/6 [==============================] - 0s 4ms/step - loss: 0.6171 - accuracy: 0.7857\n",
            "Epoch 12/60\n",
            "6/6 [==============================] - 0s 4ms/step - loss: 0.5428 - accuracy: 0.8214\n",
            "Epoch 13/60\n",
            "6/6 [==============================] - 0s 6ms/step - loss: 0.4892 - accuracy: 0.8214\n",
            "Epoch 14/60\n",
            "6/6 [==============================] - 0s 7ms/step - loss: 0.4328 - accuracy: 0.8571\n",
            "Epoch 15/60\n",
            "6/6 [==============================] - 0s 16ms/step - loss: 0.3720 - accuracy: 0.9107\n",
            "Epoch 16/60\n",
            "6/6 [==============================] - 0s 4ms/step - loss: 0.3041 - accuracy: 0.8988\n",
            "Epoch 17/60\n",
            "6/6 [==============================] - 0s 5ms/step - loss: 0.2549 - accuracy: 0.9524\n",
            "Epoch 18/60\n",
            "6/6 [==============================] - 0s 5ms/step - loss: 0.2226 - accuracy: 0.9702\n",
            "Epoch 19/60\n",
            "6/6 [==============================] - 0s 9ms/step - loss: 0.1894 - accuracy: 0.9405\n",
            "Epoch 20/60\n",
            "6/6 [==============================] - 0s 8ms/step - loss: 0.1507 - accuracy: 0.9940\n",
            "Epoch 21/60\n",
            "6/6 [==============================] - 0s 8ms/step - loss: 0.1127 - accuracy: 0.9762\n",
            "Epoch 22/60\n",
            "6/6 [==============================] - 0s 7ms/step - loss: 0.0939 - accuracy: 1.0000\n",
            "Epoch 23/60\n",
            "6/6 [==============================] - 0s 6ms/step - loss: 0.0758 - accuracy: 1.0000\n",
            "Epoch 24/60\n",
            "6/6 [==============================] - 0s 5ms/step - loss: 0.0741 - accuracy: 0.9940\n",
            "Epoch 25/60\n",
            "6/6 [==============================] - 0s 16ms/step - loss: 0.0681 - accuracy: 0.9881\n",
            "Epoch 26/60\n",
            "6/6 [==============================] - 0s 9ms/step - loss: 0.0608 - accuracy: 0.9821\n",
            "Epoch 27/60\n",
            "6/6 [==============================] - 0s 7ms/step - loss: 0.0569 - accuracy: 0.9821\n",
            "Epoch 28/60\n",
            "6/6 [==============================] - 0s 8ms/step - loss: 0.0661 - accuracy: 0.9702\n",
            "Epoch 29/60\n",
            "6/6 [==============================] - 0s 8ms/step - loss: 0.0506 - accuracy: 1.0000\n",
            "Epoch 30/60\n",
            "6/6 [==============================] - 0s 5ms/step - loss: 0.0508 - accuracy: 0.9762\n",
            "Epoch 31/60\n",
            "6/6 [==============================] - 0s 6ms/step - loss: 0.0469 - accuracy: 0.9881\n",
            "Epoch 32/60\n",
            "6/6 [==============================] - 0s 6ms/step - loss: 0.0287 - accuracy: 1.0000\n",
            "Epoch 33/60\n",
            "6/6 [==============================] - 0s 6ms/step - loss: 0.0307 - accuracy: 1.0000\n",
            "Epoch 34/60\n",
            "6/6 [==============================] - 0s 5ms/step - loss: 0.0228 - accuracy: 1.0000\n",
            "Epoch 35/60\n",
            "6/6 [==============================] - 0s 5ms/step - loss: 0.0226 - accuracy: 1.0000\n",
            "Epoch 36/60\n",
            "6/6 [==============================] - 0s 6ms/step - loss: 0.0193 - accuracy: 1.0000\n",
            "Epoch 37/60\n",
            "6/6 [==============================] - 0s 10ms/step - loss: 0.0186 - accuracy: 1.0000\n",
            "Epoch 38/60\n",
            "6/6 [==============================] - 0s 6ms/step - loss: 0.0182 - accuracy: 1.0000\n",
            "Epoch 39/60\n",
            "6/6 [==============================] - 0s 6ms/step - loss: 0.0162 - accuracy: 1.0000\n",
            "Epoch 40/60\n",
            "6/6 [==============================] - 0s 6ms/step - loss: 0.0150 - accuracy: 1.0000\n",
            "Epoch 41/60\n",
            "6/6 [==============================] - 0s 5ms/step - loss: 0.0152 - accuracy: 1.0000\n",
            "Epoch 42/60\n",
            "6/6 [==============================] - 0s 5ms/step - loss: 0.0136 - accuracy: 1.0000\n",
            "Epoch 43/60\n",
            "6/6 [==============================] - 0s 6ms/step - loss: 0.0153 - accuracy: 1.0000\n",
            "Epoch 44/60\n",
            "6/6 [==============================] - 0s 5ms/step - loss: 0.0146 - accuracy: 1.0000\n",
            "Epoch 45/60\n",
            "6/6 [==============================] - 0s 4ms/step - loss: 0.0117 - accuracy: 1.0000\n",
            "Epoch 46/60\n",
            "6/6 [==============================] - 0s 5ms/step - loss: 0.0110 - accuracy: 1.0000\n",
            "Epoch 47/60\n",
            "6/6 [==============================] - 0s 5ms/step - loss: 0.0119 - accuracy: 1.0000\n",
            "Epoch 48/60\n",
            "6/6 [==============================] - 0s 10ms/step - loss: 0.0108 - accuracy: 1.0000\n",
            "Epoch 49/60\n",
            "6/6 [==============================] - 0s 10ms/step - loss: 0.0099 - accuracy: 1.0000\n",
            "Epoch 50/60\n",
            "6/6 [==============================] - 0s 7ms/step - loss: 0.0100 - accuracy: 1.0000\n",
            "Epoch 51/60\n",
            "6/6 [==============================] - 0s 7ms/step - loss: 0.0092 - accuracy: 1.0000\n",
            "Epoch 52/60\n",
            "6/6 [==============================] - 0s 7ms/step - loss: 0.0108 - accuracy: 1.0000\n",
            "Epoch 53/60\n",
            "6/6 [==============================] - 0s 7ms/step - loss: 0.0239 - accuracy: 0.9940\n",
            "Epoch 54/60\n",
            "6/6 [==============================] - 0s 8ms/step - loss: 0.0172 - accuracy: 1.0000\n",
            "Epoch 55/60\n",
            "6/6 [==============================] - 0s 8ms/step - loss: 0.0088 - accuracy: 1.0000\n",
            "Epoch 56/60\n",
            "6/6 [==============================] - 0s 6ms/step - loss: 0.0094 - accuracy: 1.0000\n",
            "Epoch 57/60\n",
            "6/6 [==============================] - 0s 10ms/step - loss: 0.0114 - accuracy: 1.0000\n",
            "Epoch 58/60\n",
            "6/6 [==============================] - 0s 8ms/step - loss: 0.0127 - accuracy: 1.0000\n",
            "Epoch 59/60\n",
            "6/6 [==============================] - 0s 8ms/step - loss: 0.0102 - accuracy: 1.0000\n",
            "Epoch 60/60\n",
            "6/6 [==============================] - 0s 6ms/step - loss: 0.0064 - accuracy: 1.0000\n"
          ]
        },
        {
          "output_type": "execute_result",
          "data": {
            "text/plain": [
              "<keras.callbacks.History at 0x7f6b2a5f3610>"
            ]
          },
          "metadata": {},
          "execution_count": 13
        }
      ]
    },
    {
      "cell_type": "code",
      "source": [
        "score, acc = model.evaluate(X_f_test, y_f_test)"
      ],
      "metadata": {
        "colab": {
          "base_uri": "https://localhost:8080/"
        },
        "id": "ybGeJeLcSwiQ",
        "outputId": "22af18bc-af08-4cfe-b080-47ad3ff2023d"
      },
      "execution_count": null,
      "outputs": [
        {
          "output_type": "stream",
          "name": "stdout",
          "text": [
            "3/3 [==============================] - 1s 6ms/step - loss: 0.0185 - accuracy: 1.0000\n"
          ]
        }
      ]
    }
  ]
}